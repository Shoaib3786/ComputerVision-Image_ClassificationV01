{
 "cells": [
  {
   "cell_type": "markdown",
   "id": "c5155f75",
   "metadata": {},
   "source": [
    "# Image Classification"
   ]
  },
  {
   "cell_type": "markdown",
   "id": "e8366163",
   "metadata": {},
   "source": [
    "### Libraries:"
   ]
  },
  {
   "cell_type": "code",
   "execution_count": 1,
   "id": "fdd8d587",
   "metadata": {},
   "outputs": [
    {
     "name": "stderr",
     "output_type": "stream",
     "text": [
      "2023-01-09 23:33:47.480829: I tensorflow/core/platform/cpu_feature_guard.cc:193] This TensorFlow binary is optimized with oneAPI Deep Neural Network Library (oneDNN) to use the following CPU instructions in performance-critical operations:  AVX2 FMA\n",
      "To enable them in other operations, rebuild TensorFlow with the appropriate compiler flags.\n",
      "2023-01-09 23:33:47.888395: W tensorflow/compiler/xla/stream_executor/platform/default/dso_loader.cc:64] Could not load dynamic library 'libcudart.so.11.0'; dlerror: libcudart.so.11.0: cannot open shared object file: No such file or directory\n",
      "2023-01-09 23:33:47.888463: I tensorflow/compiler/xla/stream_executor/cuda/cudart_stub.cc:29] Ignore above cudart dlerror if you do not have a GPU set up on your machine.\n",
      "2023-01-09 23:33:49.632204: W tensorflow/compiler/xla/stream_executor/platform/default/dso_loader.cc:64] Could not load dynamic library 'libnvinfer.so.7'; dlerror: libnvinfer.so.7: cannot open shared object file: No such file or directory\n",
      "2023-01-09 23:33:49.632432: W tensorflow/compiler/xla/stream_executor/platform/default/dso_loader.cc:64] Could not load dynamic library 'libnvinfer_plugin.so.7'; dlerror: libnvinfer_plugin.so.7: cannot open shared object file: No such file or directory\n",
      "2023-01-09 23:33:49.632440: W tensorflow/compiler/tf2tensorrt/utils/py_utils.cc:38] TF-TRT Warning: Cannot dlopen some TensorRT libraries. If you would like to use Nvidia GPU with TensorRT, please make sure the missing libraries mentioned above are installed properly.\n"
     ]
    }
   ],
   "source": [
    "import tensorflow as tf\n",
    "from tensorflow.keras import layers\n",
    "from tensorflow.keras.models import Model\n",
    "import tensorflow.keras.datasets as dataset\n",
    "import numpy as np\n",
    "import matplotlib.pyplot as plt\n",
    "import cv2 as cv\n",
    "%matplotlib inline"
   ]
  },
  {
   "cell_type": "markdown",
   "id": "4912f7cb",
   "metadata": {},
   "source": [
    "## Model Building:\n",
    "\n",
    " - Using Model Subclassing API.\n"
   ]
  },
  {
   "cell_type": "code",
   "execution_count": 36,
   "id": "52a35dc3",
   "metadata": {},
   "outputs": [],
   "source": [
    "class modelBuild(Model):\n",
    "    \n",
    "    def __init__(self, num_classCateg):\n",
    "        super().__init__()\n",
    "        \n",
    "        #block-01\n",
    "        self.conv_01 = layers.Conv2D(filters=42,kernel_size=(5,5), activation='relu',padding='same')\n",
    "        self.maxpool_01 = layers.MaxPool2D(pool_size=(2,2), padding='same')\n",
    "        self.batchNorm_01 = layers.BatchNormalization(axis=1)\n",
    "\n",
    "        #block-02\n",
    "        self.conv_02 = layers.Conv2D(filters=50,kernel_size=(3,3), activation='relu', padding='same')\n",
    "        self.maxpool_02 = layers.MaxPool2D(pool_size=(2,2), padding='same')\n",
    "        self.batchNorm_02 = layers.BatchNormalization(axis=1)\n",
    "\n",
    "        #block-03\n",
    "        self.conv_03 = layers.Conv2D(filters=35,kernel_size=(3,3), activation='relu', padding='same')\n",
    "        self.maxpool_03 = layers.GlobalAvgPool2D()\n",
    "        self.batchNorm_03 = layers.BatchNormalization(axis=1)\n",
    "\n",
    "        #Flatten\n",
    "        self.flatten = layers.Flatten()\n",
    "\n",
    "        #block-04\n",
    "        self.dense_01 = layers.Dense(units=60, activation='relu')\n",
    "        self.batchNorm_04 = layers.BatchNormalization(axis=1)\n",
    "        \n",
    "        #block-05\n",
    "        self.dense_02 = layers.Dense(units=65, activation='relu')\n",
    "        self.batchNorm_05 = layers.BatchNormalization(axis=1)\n",
    "        \n",
    "        #Ouput\n",
    "        self.ouput = layers.Dense(num_classCateg, activation='softmax')\n",
    "\n",
    "    \n",
    "    \n",
    "    def call(self, inputs):\n",
    "        \n",
    "        x = inputs\n",
    "        \n",
    "        #block_01\n",
    "        x = self.conv_01(x)\n",
    "        x = self.maxpool_01(x)\n",
    "        x = self.batchNorm_01(x)  \n",
    "        #block_02\n",
    "        x = self.conv_02(x) \n",
    "        x = self.maxpool_02(x)\n",
    "        x = self.batchNorm_02(x)\n",
    "        #block_03\n",
    "        x = self.conv_03(x)\n",
    "        x = self.maxpool_02(x)\n",
    "        x = self.batchNorm_03(x)\n",
    "        \n",
    "        #flatten\n",
    "        x = self.flatten(x)\n",
    "        \n",
    "        #block_04\n",
    "        x = self.dense_01(x)\n",
    "        x = self.batchNorm_04(x)\n",
    "        #block_05\n",
    "        x = self.dense_02(x)\n",
    "        x = self.batchNorm_05(x)\n",
    "        \n",
    "        #output\n",
    "        return Model()\n",
    "        \n",
    "        "
   ]
  },
  {
   "cell_type": "code",
   "execution_count": null,
   "id": "d14aea7d",
   "metadata": {},
   "outputs": [],
   "source": []
  },
  {
   "cell_type": "markdown",
   "id": "0d7a4de0",
   "metadata": {},
   "source": [
    "### Importing Image Dataset:"
   ]
  },
  {
   "cell_type": "code",
   "execution_count": 37,
   "id": "6993bd37",
   "metadata": {},
   "outputs": [],
   "source": [
    "img_data = dataset.cifar10\n",
    "\n",
    "(x_train, y_train), (x_test, y_test) = img_data.load_data()\n"
   ]
  },
  {
   "cell_type": "markdown",
   "id": "faa9b762",
   "metadata": {},
   "source": [
    "### Important Manipulation of dimensions & Dtype of input data & Normalizing the data:\n"
   ]
  },
  {
   "cell_type": "code",
   "execution_count": 38,
   "id": "87b5255b",
   "metadata": {},
   "outputs": [],
   "source": [
    "#increase the dims of x_train, x_test from 3D to 4D as model accepts 4D input data\n",
    "# x_train = np.expand_dims(x_train, axis=3)\n",
    "# x_test = np.expand_dims(x_test, axis=3)\n",
    "\n",
    "\n",
    "# datatype earlier was uint9 which doesn't accepted by the model hence have to typecast it \n",
    "# TYPE CASTED THE DATA AS WELL AS NORMALIZED ITS VALUE\n",
    "\n",
    "x_train = x_train.astype('float32') / 255\n",
    "x_test = x_test.astype('float32') / 255"
   ]
  },
  {
   "cell_type": "code",
   "execution_count": null,
   "id": "7ea2c8cc",
   "metadata": {},
   "outputs": [],
   "source": []
  },
  {
   "cell_type": "markdown",
   "id": "b4345c76",
   "metadata": {},
   "source": [
    "### CNN model Compilation"
   ]
  },
  {
   "cell_type": "code",
   "execution_count": 39,
   "id": "876bbbdc",
   "metadata": {},
   "outputs": [
    {
     "name": "stdout",
     "output_type": "stream",
     "text": [
      "Epoch 1/4\n"
     ]
    },
    {
     "name": "stderr",
     "output_type": "stream",
     "text": [
      "2023-01-10 00:45:00.796017: W tensorflow/tsl/framework/cpu_allocator_impl.cc:82] Allocation of 614400000 exceeds 10% of free system memory.\n",
      "/home/shoaib/anaconda3/lib/python3.9/site-packages/keras/backend.py:5585: UserWarning: \"`sparse_categorical_crossentropy` received `from_logits=True`, but the `output` argument was produced by a Softmax activation and thus does not represent logits. Was this intended?\n",
      "  output, from_logits = _get_logits(\n"
     ]
    },
    {
     "name": "stdout",
     "output_type": "stream",
     "text": [
      "1563/1563 [==============================] - 59s 37ms/step - loss: 1.5043 - accuracy: 0.4593 - val_loss: 1.3642 - val_accuracy: 0.5211\n",
      "Epoch 2/4\n",
      "1563/1563 [==============================] - 52s 33ms/step - loss: 1.1375 - accuracy: 0.5972 - val_loss: 1.0550 - val_accuracy: 0.6212\n",
      "Epoch 3/4\n",
      "1563/1563 [==============================] - 52s 33ms/step - loss: 1.0005 - accuracy: 0.6480 - val_loss: 1.2658 - val_accuracy: 0.5830\n",
      "Epoch 4/4\n",
      "1563/1563 [==============================] - 51s 33ms/step - loss: 0.9215 - accuracy: 0.6754 - val_loss: 1.4499 - val_accuracy: 0.5424\n",
      "Model: \"model_build_3\"\n",
      "_________________________________________________________________\n",
      " Layer (type)                Output Shape              Param #   \n",
      "=================================================================\n",
      " conv2d_9 (Conv2D)           multiple                  3192      \n",
      "                                                                 \n",
      " max_pooling2d_7 (MaxPooling  multiple                 0         \n",
      " 2D)                                                             \n",
      "                                                                 \n",
      " batch_normalization_8 (Batc  multiple                 64        \n",
      " hNormalization)                                                 \n",
      "                                                                 \n",
      " conv2d_10 (Conv2D)          multiple                  18950     \n",
      "                                                                 \n",
      " max_pooling2d_8 (MaxPooling  multiple                 0         \n",
      " 2D)                                                             \n",
      "                                                                 \n",
      " batch_normalization_9 (Batc  multiple                 32        \n",
      " hNormalization)                                                 \n",
      "                                                                 \n",
      " conv2d_11 (Conv2D)          multiple                  15785     \n",
      "                                                                 \n",
      " global_average_pooling2d_1   multiple                 0 (unused)\n",
      " (GlobalAveragePooling2D)                                        \n",
      "                                                                 \n",
      " batch_normalization_10 (Bat  multiple                 16        \n",
      " chNormalization)                                                \n",
      "                                                                 \n",
      " flatten_2 (Flatten)         multiple                  0         \n",
      "                                                                 \n",
      " dense_6 (Dense)             multiple                  33660     \n",
      "                                                                 \n",
      " batch_normalization_11 (Bat  multiple                 240       \n",
      " chNormalization)                                                \n",
      "                                                                 \n",
      " dense_7 (Dense)             multiple                  3965      \n",
      "                                                                 \n",
      " batch_normalization_12 (Bat  multiple                 260       \n",
      " chNormalization)                                                \n",
      "                                                                 \n",
      " dense_8 (Dense)             multiple                  660       \n",
      "                                                                 \n",
      "=================================================================\n",
      "Total params: 76,824\n",
      "Trainable params: 76,518\n",
      "Non-trainable params: 306\n",
      "_________________________________________________________________\n"
     ]
    }
   ],
   "source": [
    "model = modelBuild(10)\n",
    "\n",
    "# compile (Backpropogation)\n",
    "model.compile(optimizer='adam',\n",
    "              loss=tf.keras.losses.SparseCategoricalCrossentropy(from_logits=True),\n",
    "              metrics=['accuracy'])\n",
    "\n",
    "\n",
    "# fit\n",
    "model.fit(x_train, y_train, epochs=4,\n",
    "                    validation_data=(x_test, y_test))  # validation data -> dataset for testing the model \n",
    "\n",
    "\n",
    "model.summary()"
   ]
  },
  {
   "cell_type": "code",
   "execution_count": 24,
   "id": "b117678c",
   "metadata": {},
   "outputs": [],
   "source": [
    "def predictModel(model, x_test):\n",
    "    \n",
    "    class_name = {0:'airplane', 1:'automobile', 2:'bird', \n",
    "              3:'cat', 4:'deer', 5:'dog', 6:'frog', \n",
    "              7:'horse', 8:'ship', 9:\"truck\"}\n",
    "\n",
    "    # taking random value/image from x_test\n",
    "    x = np.random.randint(0,len(x_test))\n",
    "    \n",
    "    # predicting random image probability belonging to which class \n",
    "    prob = model.predict(x_test[x,:].reshape(1,32,32,3))\n",
    "    \n",
    "    # considering max probabilty value\n",
    "    max_prob = np.argmax(prob)\n",
    "    \n",
    "    # Mapping the max probablity with the dictinary of the dataset class\n",
    "    predImage =  class_name.get(max_prob)\n",
    "    \n",
    "    # for making cross checking easier\n",
    "    plt.imshow(x_test[x,:])\n",
    "    print(prob)\n",
    "    print(max_prob)\n",
    "    \n",
    "    return predImage"
   ]
  },
  {
   "cell_type": "code",
   "execution_count": 27,
   "id": "f7cbf267",
   "metadata": {},
   "outputs": [
    {
     "name": "stdout",
     "output_type": "stream",
     "text": [
      "1/1 [==============================] - 0s 16ms/step\n",
      "[[5.1763898e-04 9.9301285e-01 4.0386748e-04 5.9048616e-04 4.5253943e-05\n",
      "  4.6760216e-04 2.4131787e-04 2.6604816e-05 7.4753293e-04 3.9469609e-03]]\n",
      "1\n",
      "\n",
      "\n",
      "IMAGE: automobile\n"
     ]
    },
    {
     "data": {
      "image/png": "[encoded data removed]",
      "text/plain": [
       "<Figure size 432x288 with 1 Axes>"
      ]
     },
     "metadata": {
      "needs_background": "light"
     },
     "output_type": "display_data"
    }
   ],
   "source": [
    "# calling the predictModel\n",
    "predVal = predictModel(model, x_test)\n",
    "\n",
    "\n",
    "print(\"\\n\")\n",
    "print(\"IMAGE:\",predVal)"
   ]
  },
  {
   "cell_type": "markdown",
   "id": "a62230aa",
   "metadata": {},
   "source": [
    "### Save trained model;\n"
   ]
  },
  {
   "cell_type": "code",
   "execution_count": 1,
   "id": "8ce355b1",
   "metadata": {},
   "outputs": [
    {
     "ename": "NameError",
     "evalue": "name 'model' is not defined",
     "output_type": "error",
     "traceback": [
      "\u001b[0;31m---------------------------------------------------------------------------\u001b[0m",
      "\u001b[0;31mNameError\u001b[0m                                 Traceback (most recent call last)",
      "Input \u001b[0;32mIn [1]\u001b[0m, in \u001b[0;36m<cell line: 2>\u001b[0;34m()\u001b[0m\n\u001b[1;32m      1\u001b[0m \u001b[38;5;66;03m# To save your trained model:\u001b[39;00m\n\u001b[0;32m----> 2\u001b[0m \u001b[43mmodel\u001b[49m\u001b[38;5;241m.\u001b[39msave(\u001b[38;5;124m'\u001b[39m\u001b[38;5;124mCNN_03_model\u001b[39m\u001b[38;5;124m'\u001b[39m)\n",
      "\u001b[0;31mNameError\u001b[0m: name 'model' is not defined"
     ]
    }
   ],
   "source": [
    "# To save your trained model:\n",
    "model.save('CNN_03_model')\n",
    "    "
   ]
  },
  {
   "cell_type": "markdown",
   "id": "8a6bcf6b",
   "metadata": {},
   "source": [
    "### load model:"
   ]
  },
  {
   "cell_type": "code",
   "execution_count": null,
   "id": "5f2c9d74",
   "metadata": {},
   "outputs": [],
   "source": [
    "# To load a model back in memory from an unzipped model folder:\n",
    "\n",
    "model = tf.keras.models.load_model('CNN_03_model')\n",
    "\n",
    "\n",
    "#now do ur predictions\n",
    "model.predict()"
   ]
  }
 ],
 "metadata": {
  "kernelspec": {
   "display_name": "Python 3 (ipykernel)",
   "language": "python",
   "name": "python3"
  },
  "language_info": {
   "codemirror_mode": {
    "name": "ipython",
    "version": 3
   },
   "file_extension": ".py",
   "mimetype": "text/x-python",
   "name": "python",
   "nbconvert_exporter": "python",
   "pygments_lexer": "ipython3",
   "version": "3.9.12"
  }
 },
 "nbformat": 4,
 "nbformat_minor": 5
}
